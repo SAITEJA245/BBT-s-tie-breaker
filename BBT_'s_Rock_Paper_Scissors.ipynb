{
  "nbformat": 4,
  "nbformat_minor": 0,
  "metadata": {
    "colab": {
      "name": "BBT 's Rock Paper Scissors.ipynb",
      "provenance": []
    },
    "kernelspec": {
      "name": "python3",
      "display_name": "Python 3"
    },
    "language_info": {
      "name": "python"
    }
  },
  "cells": [
    {
      "cell_type": "code",
      "metadata": {
        "colab": {
          "base_uri": "https://localhost:8080/"
        },
        "id": "HsOAzr9vOwuA",
        "outputId": "2939960c-9913-4784-d8a8-2ac5497514d2"
      },
      "source": [
        "import random\n",
        "import sys\n",
        "\n",
        "def NamToNum(n):\n",
        "  if(n=='rock'):\n",
        "    return 0\n",
        "  if(n=='spock'):\n",
        "    return 1\n",
        "  if(n=='paper'):\n",
        "    return 2\n",
        "  if(n=='lizard'):\n",
        "    return 3\n",
        "  if(n=='scissors'):\n",
        "    return 4\n",
        "  else:\n",
        "    return -1\n",
        "\n",
        "def NumToNam(n):\n",
        "  if(n==0):\n",
        "    return 'rock'\n",
        "  if(n==1):\n",
        "    return 'spock'\n",
        "  if(n==2):\n",
        "    return 'paper'\n",
        "  if(n==3):\n",
        "    return 'lizard'\n",
        "  if(n==4):\n",
        "    return 'scissors'\n",
        "\n",
        "def decider(a,b):\n",
        "  victory=(m-num)%5\n",
        "  if(m==num):\n",
        "    print(\"Tie\")\n",
        "  elif(victory<3):\n",
        "    print(\"You Loose\")\n",
        "  else:\n",
        "    print(\"You Win!\")\n",
        "\n",
        "m=random.randint(0,5)\n",
        "n=input('Enter your choice\\nOptions: rock, paper, scissors, lizard, spock: ')\n",
        "num=NamToNum(n)\n",
        "if(num==-1):\n",
        "  sys.exit(\"Invalid Input\")\n",
        "print(\"Computer is Choosing.....\")\n",
        "print()\n",
        "print(\"Your choice is :\",n)\n",
        "print(\"Computer's choice is :\",NumToNam(m))\n",
        "decider(m,num)"
      ],
      "execution_count": 3,
      "outputs": [
        {
          "output_type": "stream",
          "name": "stdout",
          "text": [
            "Enter your choice\n",
            "Options: rock, paper, scissors, lizard, spock: rock\n",
            "Computer is Choosing.....\n",
            "\n",
            "Your choice is : rock\n",
            "Computer's choice is : rock\n",
            "Tie\n"
          ]
        }
      ]
    }
  ]
}